{
 "cells": [
  {
   "cell_type": "code",
   "execution_count": null,
   "metadata": {},
   "outputs": [],
   "source": [
    "from selenium import webdriver\n",
    "from selenium.webdriver.common.by import By\n",
    "from selenium.webdriver.common.keys import Keys\n",
    "from selenium.webdriver.chrome.options import Options\n",
    "from selenium.webdriver.common.action_chains import ActionChains\n",
    "import pandas as pd\n",
    "import time"
   ]
  },
  {
   "cell_type": "code",
   "execution_count": null,
   "metadata": {},
   "outputs": [],
   "source": [
    "def browserCreator():\n",
    "    chrome_options = Options()\n",
    "    chrome_options.add_argument('--disable-blink-features=AutomationControlled')\n",
    "    browser = webdriver.Chrome(options=chrome_options)\n",
    "    browser.maximize_window()\n",
    "    return browser"
   ]
  },
  {
   "cell_type": "code",
   "execution_count": null,
   "metadata": {},
   "outputs": [],
   "source": [
    "def itemFinder():\n",
    "    item_urls = []\n",
    "    \n",
    "    items = browser.find_elements(By.CLASS_NAME, 'product-image')\n",
    "    for item in items:\n",
    "        item_url = item.get_attribute('href')\n",
    "        item_urls.append(item_url)\n",
    "    \n",
    "    return item_urls"
   ]
  },
  {
   "cell_type": "code",
   "execution_count": null,
   "metadata": {},
   "outputs": [],
   "source": [
    "def propertyCollector():\n",
    "    title = browser.find_element(By.TAG_NAME, 'h1').text\n",
    "    price = browser.find_element(By.CSS_SELECTOR, 'p.price').text\n",
    "    sku = browser.find_element(By.CSS_SELECTOR, 'span.sku').text\n",
    "    \n",
    "    cat_loc = browser.find_elements(By.CSS_SELECTOR, 'span.posted_in a')\n",
    "    categories = []\n",
    "    for category in cat_loc:\n",
    "        categories.append(category.text)\n",
    "\n",
    "    tag_loc = browser.find_elements(By.CSS_SELECTOR, 'span.tagged_as a')\n",
    "    tags = []\n",
    "    for tag in tag_loc:\n",
    "        tags.append(tag.text)\n",
    "\n",
    "    description = browser.find_element(By.CSS_SELECTOR, 'div#tabs-list-description p').text\n",
    "    \n",
    "    return [browser.current_url, title, price, sku, categories, tags, description]"
   ]
  },
  {
   "cell_type": "code",
   "execution_count": null,
   "metadata": {},
   "outputs": [],
   "source": [
    "browser = browserCreator()\n",
    "browser.get('https://yorukana.com/urunlerimiz/')\n",
    "\n",
    "export_items = []\n",
    "item_urls = itemFinder()"
   ]
  },
  {
   "cell_type": "code",
   "execution_count": null,
   "metadata": {},
   "outputs": [],
   "source": [
    "for item_url in item_urls:\n",
    "    print(f'System will work on {item_url}')\n",
    "    try:\n",
    "        browser.get(item_url)\n",
    "        print(f'{item_url} is working...')\n",
    "        item_data = propertyCollector()\n",
    "        export_items.append(item_data)\n",
    "    except:\n",
    "        print(f'ERROR: {browser.current_url}')"
   ]
  },
  {
   "cell_type": "code",
   "execution_count": null,
   "metadata": {},
   "outputs": [],
   "source": [
    "df = pd.DataFrame(export_items)\n",
    "df.to_excel('yoruk_ana.xlsx')"
   ]
  }
 ],
 "metadata": {
  "kernelspec": {
   "display_name": "Python 3",
   "language": "python",
   "name": "python3"
  },
  "language_info": {
   "codemirror_mode": {
    "name": "ipython",
    "version": 3
   },
   "file_extension": ".py",
   "mimetype": "text/x-python",
   "name": "python",
   "nbconvert_exporter": "python",
   "pygments_lexer": "ipython3",
   "version": "3.11.7"
  }
 },
 "nbformat": 4,
 "nbformat_minor": 2
}
