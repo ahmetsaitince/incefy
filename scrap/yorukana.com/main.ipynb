{
 "cells": [
  {
   "cell_type": "code",
   "execution_count": 9,
   "metadata": {},
   "outputs": [],
   "source": [
    "from selenium import webdriver\n",
    "from selenium.webdriver.common.by import By\n",
    "from selenium.webdriver.common.keys import Keys\n",
    "from selenium.webdriver.chrome.options import Options\n",
    "from selenium.webdriver.common.action_chains import ActionChains\n",
    "import pandas as pd\n",
    "import time"
   ]
  },
  {
   "cell_type": "code",
   "execution_count": 10,
   "metadata": {},
   "outputs": [],
   "source": [
    "def browserCreator():\n",
    "    chrome_options = Options()\n",
    "    chrome_options.add_argument('--disable-blink-features=AutomationControlled')\n",
    "    browser = webdriver.Chrome(options=chrome_options)\n",
    "    browser.maximize_window()\n",
    "    return browser"
   ]
  },
  {
   "cell_type": "code",
   "execution_count": 11,
   "metadata": {},
   "outputs": [],
   "source": [
    "def itemFinder():\n",
    "    item_urls = []\n",
    "    \n",
    "    items = browser.find_elements(By.CLASS_NAME, 'product-image')\n",
    "    for item in items:\n",
    "        item_url = item.get_attribute('href')\n",
    "        item_urls.append(item_url)\n",
    "    \n",
    "    return item_urls"
   ]
  },
  {
   "cell_type": "code",
   "execution_count": 12,
   "metadata": {},
   "outputs": [],
   "source": [
    "def propertyCollector():\n",
    "    title = browser.find_element(By.TAG_NAME, 'h1').text\n",
    "    price = browser.find_element(By.CSS_SELECTOR, 'p.price').text\n",
    "    sku = browser.find_element(By.CSS_SELECTOR, 'span.sku').text\n",
    "    img_url = browser.find_element(By.CLASS_NAME, 'zoomImg').get_attribute('src')\n",
    "    \n",
    "    cat_loc = browser.find_elements(By.CSS_SELECTOR, 'span.posted_in a')\n",
    "    categories = []\n",
    "    for category in cat_loc:\n",
    "        categories.append(category.text)\n",
    "\n",
    "    tag_loc = browser.find_elements(By.CSS_SELECTOR, 'span.tagged_as a')\n",
    "    tags = []\n",
    "    for tag in tag_loc:\n",
    "        tags.append(tag.text)\n",
    "\n",
    "    description = browser.find_element(By.CSS_SELECTOR, 'div#tabs-list-description p').text\n",
    "    \n",
    "    return [browser.current_url, title, price, sku, img_url, categories, tags, description]"
   ]
  },
  {
   "cell_type": "code",
   "execution_count": 13,
   "metadata": {},
   "outputs": [],
   "source": [
    "browser = browserCreator()\n",
    "browser.get('https://yorukana.com/urunlerimiz/')\n",
    "\n",
    "export_items = []\n",
    "item_urls = itemFinder()"
   ]
  },
  {
   "cell_type": "code",
   "execution_count": 14,
   "metadata": {},
   "outputs": [
    {
     "name": "stdout",
     "output_type": "stream",
     "text": [
      "System will work on https://yorukana.com/geleneksel-acili-tarhana-corbasi-450-gr/\n",
      "https://yorukana.com/geleneksel-acili-tarhana-corbasi-450-gr/ is working...\n",
      "System will work on https://yorukana.com/geleneksel-tarhana-corbasi-450-gr/\n",
      "https://yorukana.com/geleneksel-tarhana-corbasi-450-gr/ is working...\n",
      "System will work on https://yorukana.com/geleneksel-domates-corbasi-400-gr/\n",
      "https://yorukana.com/geleneksel-domates-corbasi-400-gr/ is working...\n",
      "System will work on https://yorukana.com/geleneksel-kozlenmis-biber-615-gr/\n",
      "https://yorukana.com/geleneksel-kozlenmis-biber-615-gr/ is working...\n",
      "System will work on https://yorukana.com/geleneksel-kozlenmis-patlican-590-gr/\n",
      "https://yorukana.com/geleneksel-kozlenmis-patlican-590-gr/ is working...\n",
      "System will work on https://yorukana.com/geleneksel-kornison-tursu-625-gr/\n",
      "https://yorukana.com/geleneksel-kornison-tursu-625-gr/ is working...\n",
      "System will work on https://yorukana.com/geleneksel-cubuk-tursu-650-gr/\n",
      "https://yorukana.com/geleneksel-cubuk-tursu-650-gr/ is working...\n",
      "System will work on https://yorukana.com/geleneksel-keciboynuzu-ozu-640-gr/\n",
      "https://yorukana.com/geleneksel-keciboynuzu-ozu-640-gr/ is working...\n",
      "System will work on https://yorukana.com/geleneksel-karadut-ozu-640-gr/\n",
      "https://yorukana.com/geleneksel-karadut-ozu-640-gr/ is working...\n",
      "System will work on https://yorukana.com/geleneksel-aci-biber-salcasi-650-gr/\n",
      "https://yorukana.com/geleneksel-aci-biber-salcasi-650-gr/ is working...\n",
      "System will work on https://yorukana.com/geleneksel-tatli-biber-salcasi-650-gr/\n",
      "https://yorukana.com/geleneksel-tatli-biber-salcasi-650-gr/ is working...\n",
      "System will work on https://yorukana.com/geleneksel-domates-salcasi-650-gr/\n",
      "https://yorukana.com/geleneksel-domates-salcasi-650-gr/ is working...\n",
      "System will work on https://yorukana.com/geleneksel-kurutulmus-antep-patlican-15-ad/\n",
      "https://yorukana.com/geleneksel-kurutulmus-antep-patlican-15-ad/ is working...\n",
      "System will work on https://yorukana.com/geleneksel-kurutulmus-antep-biber-15-ad/\n",
      "https://yorukana.com/geleneksel-kurutulmus-antep-biber-15-ad/ is working...\n",
      "System will work on https://yorukana.com/yoruk-ana-geleneksel-karadut-suyu-1-lt/\n",
      "https://yorukana.com/yoruk-ana-geleneksel-karadut-suyu-1-lt/ is working...\n",
      "System will work on https://yorukana.com/yoruk-ana-geleneksel-bogurtlen-suyu-1-lt/\n",
      "https://yorukana.com/yoruk-ana-geleneksel-bogurtlen-suyu-1-lt/ is working...\n",
      "System will work on https://yorukana.com/yoruk-ana-geleneksel-tarhana-1-kg/\n",
      "https://yorukana.com/yoruk-ana-geleneksel-tarhana-1-kg/ is working...\n",
      "System will work on https://yorukana.com/yoruk-ana-geleneksel-sarimsak-tursusu-340-gr/\n",
      "https://yorukana.com/yoruk-ana-geleneksel-sarimsak-tursusu-340-gr/ is working...\n",
      "System will work on https://yorukana.com/yer-fistigi-ezmesi-300-gr/\n",
      "https://yorukana.com/yer-fistigi-ezmesi-300-gr/ is working...\n",
      "System will work on https://yorukana.com/yoruk-ana-geleneksel-0-visne-suyu-1-lt/\n",
      "https://yorukana.com/yoruk-ana-geleneksel-0-visne-suyu-1-lt/ is working...\n",
      "System will work on https://yorukana.com/yoruk-ana-geleneksel-hurma-ozu/\n",
      "https://yorukana.com/yoruk-ana-geleneksel-hurma-ozu/ is working...\n",
      "System will work on https://yorukana.com/yoruk-ana-antep-fistigi-ezmesi-200-gr/\n",
      "https://yorukana.com/yoruk-ana-antep-fistigi-ezmesi-200-gr/ is working...\n",
      "System will work on https://yorukana.com/yoruk-ana-badem-ezmesi-200-gr/\n",
      "https://yorukana.com/yoruk-ana-badem-ezmesi-200-gr/ is working...\n",
      "System will work on https://yorukana.com/yoruk-ana-ceviz-ezmesi-200-gr/\n",
      "https://yorukana.com/yoruk-ana-ceviz-ezmesi-200-gr/ is working...\n",
      "System will work on https://yorukana.com/yoruk-ana-kaju-ezmesi-200-gr/\n",
      "https://yorukana.com/yoruk-ana-kaju-ezmesi-200-gr/ is working...\n",
      "System will work on https://yorukana.com/yoruk-ana-450-gr-geleneksel-tarhana-corbasi/\n",
      "https://yorukana.com/yoruk-ana-450-gr-geleneksel-tarhana-corbasi/ is working...\n",
      "ERROR: https://yorukana.com/yoruk-ana-450-gr-geleneksel-tarhana-corbasi/\n",
      "System will work on https://yorukana.com/yoruk-ana-ciftligi-nar-portakal-suyu-1-lt/\n",
      "https://yorukana.com/yoruk-ana-ciftligi-nar-portakal-suyu-1-lt/ is working...\n",
      "System will work on https://yorukana.com/yoruk-ana-ciftligi-portakal-suyu-1-lt/\n",
      "https://yorukana.com/yoruk-ana-ciftligi-portakal-suyu-1-lt/ is working...\n",
      "System will work on https://yorukana.com/yoruk-ana-ciftligi-seftali-suyu-1-lt/\n",
      "https://yorukana.com/yoruk-ana-ciftligi-seftali-suyu-1-lt/ is working...\n",
      "System will work on https://yorukana.com/kozlenmis-patlican-teneke-3-kg/\n",
      "https://yorukana.com/kozlenmis-patlican-teneke-3-kg/ is working...\n",
      "System will work on https://yorukana.com/kozlenmis-biber-teneke-3-kg/\n",
      "https://yorukana.com/kozlenmis-biber-teneke-3-kg/ is working...\n",
      "System will work on https://yorukana.com/yoruk-ana-geleneksel-0-nar-suyu-1-lt/\n",
      "https://yorukana.com/yoruk-ana-geleneksel-0-nar-suyu-1-lt/ is working...\n",
      "System will work on https://yorukana.com/geleneksel-karisik-lux-tursu-650-gr/\n",
      "https://yorukana.com/geleneksel-karisik-lux-tursu-650-gr/ is working...\n",
      "System will work on https://yorukana.com/geleneksel-salamura-yesil-kirma-zeytin-400-gr/\n",
      "https://yorukana.com/geleneksel-salamura-yesil-kirma-zeytin-400-gr/ is working...\n",
      "System will work on https://yorukana.com/geleneksel-aci-biber-salcasi-1650-gr/\n",
      "https://yorukana.com/geleneksel-aci-biber-salcasi-1650-gr/ is working...\n",
      "System will work on https://yorukana.com/geleneksel-tatli-biber-salcasi-1650-gr/\n",
      "https://yorukana.com/geleneksel-tatli-biber-salcasi-1650-gr/ is working...\n",
      "System will work on https://yorukana.com/geleneksel-domates-salcasi-1650-gr/\n",
      "https://yorukana.com/geleneksel-domates-salcasi-1650-gr/ is working...\n",
      "System will work on https://yorukana.com/yoruk-ana-geleneksel-kurutulmus-atom-biber-30-gr/\n",
      "https://yorukana.com/yoruk-ana-geleneksel-kurutulmus-atom-biber-30-gr/ is working...\n",
      "System will work on https://yorukana.com/yoruk-ana-geleneksel-kurutulmus-domates-200-gr/\n",
      "https://yorukana.com/yoruk-ana-geleneksel-kurutulmus-domates-200-gr/ is working...\n",
      "System will work on https://yorukana.com/yoruk-ana-kurutulmus-kabak-20-ad/\n",
      "https://yorukana.com/yoruk-ana-kurutulmus-kabak-20-ad/ is working...\n",
      "System will work on https://yorukana.com/yoruk-ana-kurutulmus-dolmalik-kabak-biber-patlican-15-ad/\n",
      "https://yorukana.com/yoruk-ana-kurutulmus-dolmalik-kabak-biber-patlican-15-ad/ is working...\n",
      "System will work on https://yorukana.com/yoruk-ana-ciftligi-asma-yapragi-1000-gr/\n",
      "https://yorukana.com/yoruk-ana-ciftligi-asma-yapragi-1000-gr/ is working...\n",
      "System will work on https://yorukana.com/yoruk-ana-geleneksel-visne-suyu-250-ml/\n",
      "https://yorukana.com/yoruk-ana-geleneksel-visne-suyu-250-ml/ is working...\n",
      "System will work on https://yorukana.com/yoruk-ana-geleneksel-karadut-suyu-250-ml/\n",
      "https://yorukana.com/yoruk-ana-geleneksel-karadut-suyu-250-ml/ is working...\n",
      "System will work on https://yorukana.com/yoruk-ana-geleneksel-nar-suyu-250-ml/\n",
      "https://yorukana.com/yoruk-ana-geleneksel-nar-suyu-250-ml/ is working...\n",
      "System will work on https://yorukana.com/yoruk-ana-geleneksel-bogurtlen-suyu-250-ml/\n",
      "https://yorukana.com/yoruk-ana-geleneksel-bogurtlen-suyu-250-ml/ is working...\n"
     ]
    }
   ],
   "source": [
    "for item_url in item_urls:\n",
    "    print(f'System will work on {item_url}')\n",
    "    try:\n",
    "        browser.get(item_url)\n",
    "        print(f'{item_url} is working...')\n",
    "        item_data = propertyCollector()\n",
    "        export_items.append(item_data)\n",
    "    except:\n",
    "        print(f'ERROR: {browser.current_url}')"
   ]
  },
  {
   "cell_type": "code",
   "execution_count": 15,
   "metadata": {},
   "outputs": [],
   "source": [
    "df = pd.DataFrame(export_items)\n",
    "df.to_excel('yoruk_ana.xlsx')"
   ]
  }
 ],
 "metadata": {
  "kernelspec": {
   "display_name": "Python 3",
   "language": "python",
   "name": "python3"
  },
  "language_info": {
   "codemirror_mode": {
    "name": "ipython",
    "version": 3
   },
   "file_extension": ".py",
   "mimetype": "text/x-python",
   "name": "python",
   "nbconvert_exporter": "python",
   "pygments_lexer": "ipython3",
   "version": "3.11.8"
  }
 },
 "nbformat": 4,
 "nbformat_minor": 2
}
