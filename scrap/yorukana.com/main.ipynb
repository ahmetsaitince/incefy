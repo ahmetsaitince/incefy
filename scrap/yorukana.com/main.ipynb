{
 "cells": [
  {
   "cell_type": "code",
   "execution_count": null,
   "metadata": {},
   "outputs": [],
   "source": [
    "from selenium import webdriver\n",
    "from selenium.webdriver.common.by import By\n",
    "from selenium.webdriver.common.keys import Keys\n",
    "from selenium.webdriver.chrome.options import Options\n",
    "from selenium.webdriver.common.action_chains import ActionChains\n",
    "import pandas as pd\n",
    "import time"
   ]
  },
  {
   "cell_type": "code",
   "execution_count": null,
   "metadata": {},
   "outputs": [],
   "source": [
    "def browserCreator():\n",
    "    chrome_options = Options()\n",
    "    chrome_options.add_argument('--disable-blink-features=AutomationControlled')\n",
    "    browser = webdriver.Chrome(options=chrome_options)\n",
    "    browser.maximize_window()\n",
    "    return browser"
   ]
  },
  {
   "cell_type": "code",
   "execution_count": null,
   "metadata": {},
   "outputs": [],
   "source": [
    "def categoryFinder():\n",
    "    header_element = browser.find_element(By.CLASS_NAME, 'header_siteNav__XcQ_A')\n",
    "    category_elements = header_element.find_elements(By.CSS_SELECTOR, 'li.header_siteNavItem__ZVlvo a')\n",
    "    category_urls = []\n",
    "    for category in category_elements:\n",
    "        category_urls.append(category.get_attribute('href'))\n",
    "    return category_urls"
   ]
  },
  {
   "cell_type": "code",
   "execution_count": null,
   "metadata": {},
   "outputs": [],
   "source": [
    "def subcategoryFinder():\n",
    "        parentSubcategory = browser.find_element(By.CSS_SELECTOR, '.sub-categories_filterValueList__QU9Fb') # subcategory_parent_div\n",
    "        subcategory_locs = parentSubcategory.find_elements(By.CSS_SELECTOR, '.sub-categories_subCategory__G3Nri a')\n",
    "        subcategory_urls = []\n",
    "        for subcategory in subcategory_locs:\n",
    "            subcategory_urls.append(subcategory.get_attribute('href'))\n",
    "        return subcategory_urls"
   ]
  },
  {
   "cell_type": "code",
   "execution_count": null,
   "metadata": {},
   "outputs": [],
   "source": [
    "def numberChecker():\n",
    "    item_number = int(browser.find_element(By.CLASS_NAME, 'header_productCount__xqH5Q').text.split(' ',  1)[0])\n",
    "    if item_number > 20:\n",
    "        for i in range(1, 10):\n",
    "            browser.execute_script(\"window.scrollTo(0, document.body.scrollHeight);\")\n",
    "            time.sleep(2)\n",
    "    return item_number"
   ]
  },
  {
   "cell_type": "code",
   "execution_count": null,
   "metadata": {},
   "outputs": [],
   "source": [
    "def itemCollector():\n",
    "    item_elements = browser.find_elements(By.CLASS_NAME, 'product-card_container__r0Hwu')\n",
    "    \n",
    "    all_items = []\n",
    "\n",
    "    for item in item_elements:\n",
    "        title = item.find_element(By.CLASS_NAME, 'product-card_productTitle__lzOti').text\n",
    "        brand = item.find_element(By.CLASS_NAME, 'product-card_productVendor__RQ1wV').text\n",
    "        price = item.find_element(By.CLASS_NAME, 'product-card_productPrice__37so7').text\n",
    "\n",
    "        all_items.append([title, price, brand])\n",
    "    \n",
    "    return all_items"
   ]
  },
  {
   "cell_type": "code",
   "execution_count": null,
   "metadata": {},
   "outputs": [],
   "source": [
    "browser = browserCreator()\n",
    "browser.get('https://malatyapazaripalanci.com.tr')\n",
    "\n",
    "export_items = []\n",
    "categories = categoryFinder()\n",
    "print(f'System will work on {categories}')\n",
    "for category in categories:\n",
    "    try:\n",
    "        browser.get(category)\n",
    "        print(f'{category} is working...')\n",
    "        item_number = numberChecker()\n",
    "        category_items = itemCollector()git\n",
    "        export_items.append(category_items)\n",
    "        print(f'{browser.current_url} has {item_number} of items, and {len(category_items)} item collected.')\n",
    "    except:\n",
    "        print(browser.current_url)"
   ]
  },
  {
   "cell_type": "code",
   "execution_count": null,
   "metadata": {},
   "outputs": [],
   "source": [
    "df = pd.DataFrame(all_items)\n",
    "df.to_excel('malatya.xlsx')"
   ]
  }
 ],
 "metadata": {
  "kernelspec": {
   "display_name": "Python 3",
   "language": "python",
   "name": "python3"
  },
  "language_info": {
   "codemirror_mode": {
    "name": "ipython",
    "version": 3
   },
   "file_extension": ".py",
   "mimetype": "text/x-python",
   "name": "python",
   "nbconvert_exporter": "python",
   "pygments_lexer": "ipython3",
   "version": "3.11.7"
  }
 },
 "nbformat": 4,
 "nbformat_minor": 2
}
