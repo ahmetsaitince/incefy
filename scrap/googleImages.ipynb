{
 "cells": [
  {
   "cell_type": "code",
   "execution_count": 3,
   "metadata": {},
   "outputs": [],
   "source": [
    "from selenium import webdriver\n",
    "from selenium.webdriver.common.by import By\n",
    "from selenium.webdriver.common.keys import Keys\n",
    "from selenium.webdriver.chrome.options import Options\n",
    "from selenium.webdriver.common.action_chains import ActionChains\n",
    "import pandas as pd\n",
    "import time\n",
    "\n",
    "def browserCreator():\n",
    "    chrome_options = Options()\n",
    "    chrome_options.add_argument('--disable-blink-features=AutomationControlled')\n",
    "    #browser = webdriver.Remote(command_executor=\"http://127.0.0.1:4444/wd/hub\", options=chrome_options)\n",
    "    browser = webdriver.Chrome(options=chrome_options)\n",
    "    browser.maximize_window()\n",
    "    return browser"
   ]
  },
  {
   "cell_type": "code",
   "execution_count": 4,
   "metadata": {},
   "outputs": [],
   "source": [
    "browser = browserCreator()"
   ]
  },
  {
   "cell_type": "code",
   "execution_count": 5,
   "metadata": {},
   "outputs": [],
   "source": [
    "browser.get('https://www.google.com/search?q=test&sca_esv=c51a80de1a7d45f0&sca_upv=1&hl=en&tbm=isch&source=hp&biw=1920&bih=955&ei=xmfKZYGlOPyUxc8PjrKQ8AE&iflsig=ANes7DEAAAAAZcp11tk5N7xRh7ZzWaTT2c1xfCkNMB8n&ved=0ahUKEwiBoIywu6aEAxV8SvEDHQ4ZBB4Q4dUDCAc&uact=5&oq=test&gs_lp=EgNpbWciBHRlc3QyBRAAGIAEMgUQABiABDIFEAAYgAQyBRAAGIAEMgUQABiABDIFEAAYgAQyBRAAGIAEMgUQABiABDIFEAAYgAQyBRAAGIAESKcNUJkJWL4McAB4AJABAJgBf6AB9wKqAQMwLjO4AQPIAQD4AQGKAgtnd3Mtd2l6LWltZ6gCAA&sclient=img')"
   ]
  },
  {
   "cell_type": "code",
   "execution_count": 40,
   "metadata": {},
   "outputs": [],
   "source": [
    "def img_extractor(search_key, order_num):\n",
    "    try:\n",
    "        browser.find_element(By.TAG_NAME, 'input').send_keys(Keys.CONTROL+'A' + Keys.BACK_SPACE)\n",
    "        browser.find_element(By.TAG_NAME, 'input').send_keys(search_key + Keys.ENTER)\n",
    "        time.sleep(1)\n",
    "        browser.find_element(By.CSS_SELECTOR, '.rg_i.Q4LuWd').click()\n",
    "        time.sleep(1)\n",
    "        src = browser.find_elements(By.CSS_SELECTOR, '.sFlh5c.pT0Scc.iPVvYb')\n",
    "        src = src[order_num].get_attribute('src')\n",
    "        return src\n",
    "    except:\n",
    "        browser.refresh\n",
    "        time.sleep(2)\n",
    "        print(f'{search_key} could not be founded!!!')"
   ]
  },
  {
   "cell_type": "code",
   "execution_count": 6,
   "metadata": {},
   "outputs": [],
   "source": [
    "items = pd.read_excel('Book2.xlsx')"
   ]
  },
  {
   "cell_type": "code",
   "execution_count": 7,
   "metadata": {},
   "outputs": [],
   "source": [
    "item_imgs = []\n",
    "uncompleted_items = []"
   ]
  },
  {
   "cell_type": "code",
   "execution_count": 55,
   "metadata": {},
   "outputs": [
    {
     "name": "stdout",
     "output_type": "stream",
     "text": [
      "DOĞANAY ŞALGAM ACISIZ  1LT *12'Lİ could not be founded!!!\n",
      "DOĞANAY ŞALGAM 300ML ACILI  can not be founded after 2 tries!!!\n",
      "DOĞANAY ŞALGAM 300ML sade could not be founded!!!\n",
      "DOĞANAY NARE CAM 250 ML NAR EKŞİSİ  could not be founded!!!\n",
      "ULUDAĞ GAZOZ PORTAKAL CAM  could not be founded!!!\n",
      "ULUDAĞ PORTAKAL 1LT could not be founded!!!\n"
     ]
    }
   ],
   "source": [
    "for item_name in items['item_name']:\n",
    "    try:\n",
    "        src = img_extractor(item_name)\n",
    "        item_imgs.append({item_name: src})\n",
    "        \n",
    "        \n",
    "    except:\n",
    "        try:\n",
    "            time.sleep(1)\n",
    "            browser.get(browser.current_url)\n",
    "            browser.refresh\n",
    "            src = img_extractor\n",
    "            item_imgs.append({item_name: src})\n",
    "            \n",
    "        except:\n",
    "            print(f'{item_name} can not be founded after 2 tries!!!')\n",
    "            item_imgs.append({item_name: 'not-founded'})\n",
    "            uncompleted_items.append(item_name)\n",
    "            pass"
   ]
  },
  {
   "cell_type": "code",
   "execution_count": 24,
   "metadata": {},
   "outputs": [],
   "source": [
    "df = pd.DataFrame([(list(d.keys())[0], list(d.values())[0]) for d in item_imgs], columns=['key', 'value'])"
   ]
  },
  {
   "cell_type": "code",
   "execution_count": 45,
   "metadata": {},
   "outputs": [],
   "source": [
    "df.to_excel('test5.xlsx')"
   ]
  },
  {
   "cell_type": "code",
   "execution_count": 6,
   "metadata": {},
   "outputs": [],
   "source": [
    "df =pd.read_excel('test3.xlsx')"
   ]
  },
  {
   "cell_type": "code",
   "execution_count": 43,
   "metadata": {},
   "outputs": [
    {
     "name": "stdout",
     "output_type": "stream",
     "text": [
      "14\n"
     ]
    }
   ],
   "source": [
    "i=0\n",
    "\n",
    "for index, row in df.iterrows():\n",
    "    if row['value'] == None:\n",
    "        i +=1\n",
    "print(i)"
   ]
  },
  {
   "cell_type": "code",
   "execution_count": 44,
   "metadata": {},
   "outputs": [
    {
     "name": "stdout",
     "output_type": "stream",
     "text": [
      "İÇİM MEYVE SUYU 1LT  KAYISI could not be founded!!!\n",
      "YÖRÜK ANA KÖZLENMİŞ BİBER could not be founded!!!\n",
      "YÖRÜK KÖZLENMİŞ PATLICAN could not be founded!!!\n",
      "ETI HOSBES GOFRET HIDISTAN CEVIZLI 20 ADET BUYUK could not be founded!!!\n",
      "ETI ADICTO BROWNI  200 G could not be founded!!!\n",
      "ETI NERO 100 GR 18 ADET could not be founded!!!\n",
      "ETI  TOPKEK PORT. BSZ 40GX24 TV could not be founded!!!\n",
      "ETI PIZZA KRAKER BUYUK 76 GR 14 ADET could not be founded!!!\n",
      "KAHVE DUNYASI BONTE SUTLU CIKOLATA 120GR POŞET   could not be founded!!!\n",
      "KAVLAK ZEYTİNLERİ ÖZEL SEÇME 1KG  could not be founded!!!\n",
      "MARMARABİRLİK ZEYTİNYAĞI 1LT PET  could not be founded!!!\n",
      "ÖNCÜ PUL BİBER ACI 1000GR could not be founded!!!\n",
      "PAŞABAHÇE ÇAY TABAĞI 6'LI OPTIKLI  could not be founded!!!\n",
      "ÖNCÜ SİYAH ZEYTİN 2XL-L could not be founded!!!\n",
      "14\n"
     ]
    }
   ],
   "source": [
    "i = 0\n",
    "\n",
    "for index, row in df.iterrows():\n",
    "    if row['value'] == None:\n",
    "        df.at[index, 'value'] = img_extractor(row['key'], 2)   \n",
    "        i += 1\n",
    "print(i)"
   ]
  },
  {
   "cell_type": "code",
   "execution_count": 28,
   "metadata": {},
   "outputs": [],
   "source": [
    "df.to_excel('test4.xlsx')"
   ]
  },
  {
   "cell_type": "code",
   "execution_count": 9,
   "metadata": {},
   "outputs": [
    {
     "ename": "NameError",
     "evalue": "name 'handleCreator' is not defined",
     "output_type": "error",
     "traceback": [
      "\u001b[1;31m---------------------------------------------------------------------------\u001b[0m",
      "\u001b[1;31mNameError\u001b[0m                                 Traceback (most recent call last)",
      "Cell \u001b[1;32mIn[9], line 1\u001b[0m\n\u001b[1;32m----> 1\u001b[0m {\u001b[38;5;124m'\u001b[39m\u001b[38;5;124mHandle\u001b[39m\u001b[38;5;124m'\u001b[39m: \u001b[43mhandleCreator\u001b[49m(title), \n\u001b[0;32m      2\u001b[0m  \u001b[38;5;124m'\u001b[39m\u001b[38;5;124mTitle\u001b[39m\u001b[38;5;124m'\u001b[39m: title, \n\u001b[0;32m      3\u001b[0m  \u001b[38;5;124m'\u001b[39m\u001b[38;5;124mBody (HTML)\u001b[39m\u001b[38;5;124m'\u001b[39m: \u001b[38;5;124m'\u001b[39m\u001b[38;5;124m'\u001b[39m, \n\u001b[0;32m      4\u001b[0m  \u001b[38;5;124m'\u001b[39m\u001b[38;5;124mVendor\u001b[39m\u001b[38;5;124m'\u001b[39m: brand_name, \n\u001b[0;32m      5\u001b[0m  \u001b[38;5;124m'\u001b[39m\u001b[38;5;124mProduct Category\u001b[39m\u001b[38;5;124m'\u001b[39m: \u001b[38;5;124m'\u001b[39m\u001b[38;5;124m'\u001b[39m, \n\u001b[0;32m      6\u001b[0m  \u001b[38;5;124m'\u001b[39m\u001b[38;5;124mType\u001b[39m\u001b[38;5;124m'\u001b[39m: \u001b[38;5;124m'\u001b[39m\u001b[38;5;124m'\u001b[39m, \n\u001b[0;32m      7\u001b[0m  \u001b[38;5;124m'\u001b[39m\u001b[38;5;124mTags\u001b[39m\u001b[38;5;124m'\u001b[39m: item_tags, \n\u001b[0;32m      8\u001b[0m  \u001b[38;5;124m'\u001b[39m\u001b[38;5;124mPublished\u001b[39m\u001b[38;5;124m'\u001b[39m: \u001b[38;5;124m'\u001b[39m\u001b[38;5;124mTRUE\u001b[39m\u001b[38;5;124m'\u001b[39m, \n\u001b[0;32m      9\u001b[0m  \u001b[38;5;124m'\u001b[39m\u001b[38;5;124mOption1 Name\u001b[39m\u001b[38;5;124m'\u001b[39m: \u001b[38;5;124m'\u001b[39m\u001b[38;5;124m'\u001b[39m, \n\u001b[0;32m     10\u001b[0m  \u001b[38;5;124m'\u001b[39m\u001b[38;5;124mOption1 Value\u001b[39m\u001b[38;5;124m'\u001b[39m: \u001b[38;5;124m'\u001b[39m\u001b[38;5;124m'\u001b[39m, \n\u001b[0;32m     11\u001b[0m  \u001b[38;5;124m'\u001b[39m\u001b[38;5;124mOption2 Name\u001b[39m\u001b[38;5;124m'\u001b[39m: \u001b[38;5;124m'\u001b[39m\u001b[38;5;124m'\u001b[39m, \n\u001b[0;32m     12\u001b[0m  \u001b[38;5;124m'\u001b[39m\u001b[38;5;124mOption2 Value\u001b[39m\u001b[38;5;124m'\u001b[39m: \u001b[38;5;124m'\u001b[39m\u001b[38;5;124m'\u001b[39m, \n\u001b[0;32m     13\u001b[0m  \u001b[38;5;124m'\u001b[39m\u001b[38;5;124mOption3 Name\u001b[39m\u001b[38;5;124m'\u001b[39m: \u001b[38;5;124m'\u001b[39m\u001b[38;5;124m'\u001b[39m, \n\u001b[0;32m     14\u001b[0m  \u001b[38;5;124m'\u001b[39m\u001b[38;5;124mOption3 Value\u001b[39m\u001b[38;5;124m'\u001b[39m: \u001b[38;5;124m'\u001b[39m\u001b[38;5;124m'\u001b[39m, \n\u001b[0;32m     15\u001b[0m  \u001b[38;5;124m'\u001b[39m\u001b[38;5;124mVariant SKU\u001b[39m\u001b[38;5;124m'\u001b[39m: \u001b[38;5;124m'\u001b[39m\u001b[38;5;124m'\u001b[39m, \n\u001b[0;32m     16\u001b[0m  \u001b[38;5;124m'\u001b[39m\u001b[38;5;124mVariant Grams\u001b[39m\u001b[38;5;124m'\u001b[39m: \u001b[38;5;124m'\u001b[39m\u001b[38;5;124m'\u001b[39m, \n\u001b[0;32m     17\u001b[0m  \u001b[38;5;124m'\u001b[39m\u001b[38;5;124mVariant Inventory Tracker\u001b[39m\u001b[38;5;124m'\u001b[39m: \u001b[38;5;124m'\u001b[39m\u001b[38;5;124mshopify\u001b[39m\u001b[38;5;124m'\u001b[39m, \n\u001b[0;32m     18\u001b[0m  \u001b[38;5;124m'\u001b[39m\u001b[38;5;124mVariant Inventory Qty\u001b[39m\u001b[38;5;124m'\u001b[39m: \u001b[38;5;124m'\u001b[39m\u001b[38;5;124m0\u001b[39m\u001b[38;5;124m'\u001b[39m, \n\u001b[0;32m     19\u001b[0m  \u001b[38;5;124m'\u001b[39m\u001b[38;5;124mVariant Inventory Policy\u001b[39m\u001b[38;5;124m'\u001b[39m: \u001b[38;5;124m'\u001b[39m\u001b[38;5;124mdeny\u001b[39m\u001b[38;5;124m'\u001b[39m, \n\u001b[0;32m     20\u001b[0m  \u001b[38;5;124m'\u001b[39m\u001b[38;5;124mVariant Fulfillment Service\u001b[39m\u001b[38;5;124m'\u001b[39m: \u001b[38;5;124m'\u001b[39m\u001b[38;5;124mmanual\u001b[39m\u001b[38;5;124m'\u001b[39m, \n\u001b[0;32m     21\u001b[0m  \u001b[38;5;124m'\u001b[39m\u001b[38;5;124mVariant Price\u001b[39m\u001b[38;5;124m'\u001b[39m: \u001b[38;5;124m'\u001b[39m\u001b[38;5;124m0.00\u001b[39m\u001b[38;5;124m'\u001b[39m, \n\u001b[0;32m     22\u001b[0m  \u001b[38;5;124m'\u001b[39m\u001b[38;5;124mVariant Compare At Price\u001b[39m\u001b[38;5;124m'\u001b[39m: \u001b[38;5;124m'\u001b[39m\u001b[38;5;124m'\u001b[39m, \n\u001b[0;32m     23\u001b[0m  \u001b[38;5;124m'\u001b[39m\u001b[38;5;124mVariant Requires Shipping\u001b[39m\u001b[38;5;124m'\u001b[39m: \u001b[38;5;124m'\u001b[39m\u001b[38;5;124mTRUE\u001b[39m\u001b[38;5;124m'\u001b[39m, \n\u001b[0;32m     24\u001b[0m  \u001b[38;5;124m'\u001b[39m\u001b[38;5;124mVariant Taxable\u001b[39m\u001b[38;5;124m'\u001b[39m: \u001b[38;5;124m'\u001b[39m\u001b[38;5;124mTRUE\u001b[39m\u001b[38;5;124m'\u001b[39m, \n\u001b[0;32m     25\u001b[0m  \u001b[38;5;124m'\u001b[39m\u001b[38;5;124mVariant Barcode\u001b[39m\u001b[38;5;124m'\u001b[39m: \u001b[38;5;124m'\u001b[39m\u001b[38;5;124m'\u001b[39m, \n\u001b[0;32m     26\u001b[0m  \u001b[38;5;124m'\u001b[39m\u001b[38;5;124mImage Src\u001b[39m\u001b[38;5;124m'\u001b[39m: img_url, \n\u001b[0;32m     27\u001b[0m  \u001b[38;5;124m'\u001b[39m\u001b[38;5;124mImage Position\u001b[39m\u001b[38;5;124m'\u001b[39m: \u001b[38;5;124m'\u001b[39m\u001b[38;5;124m1\u001b[39m\u001b[38;5;124m'\u001b[39m, \n\u001b[0;32m     28\u001b[0m  \u001b[38;5;124m'\u001b[39m\u001b[38;5;124mImage Alt Text\u001b[39m\u001b[38;5;124m'\u001b[39m: \u001b[38;5;124m'\u001b[39m\u001b[38;5;124m'\u001b[39m, \n\u001b[0;32m     29\u001b[0m  \u001b[38;5;124m'\u001b[39m\u001b[38;5;124mGift Card\u001b[39m\u001b[38;5;124m'\u001b[39m: \u001b[38;5;124m'\u001b[39m\u001b[38;5;124mFalse\u001b[39m\u001b[38;5;124m'\u001b[39m, \n\u001b[0;32m     30\u001b[0m  \u001b[38;5;124m'\u001b[39m\u001b[38;5;124mSEO Title\u001b[39m\u001b[38;5;124m'\u001b[39m: \u001b[38;5;124m'\u001b[39m\u001b[38;5;124m'\u001b[39m, \u001b[38;5;124m'\u001b[39m\u001b[38;5;124mSEO Description\u001b[39m\u001b[38;5;124m'\u001b[39m: \u001b[38;5;124m'\u001b[39m\u001b[38;5;124m'\u001b[39m,\n\u001b[0;32m     31\u001b[0m  \u001b[38;5;124m'\u001b[39m\u001b[38;5;124mGoogle Shopping / Google Product Category\u001b[39m\u001b[38;5;124m'\u001b[39m: \u001b[38;5;124m'\u001b[39m\u001b[38;5;124m'\u001b[39m, \n\u001b[0;32m     32\u001b[0m  \u001b[38;5;124m'\u001b[39m\u001b[38;5;124mGoogle Shopping / Gender\u001b[39m\u001b[38;5;124m'\u001b[39m: \u001b[38;5;124m'\u001b[39m\u001b[38;5;124m'\u001b[39m, \u001b[38;5;124m'\u001b[39m\u001b[38;5;124mGoogle Shopping / Age Group\u001b[39m\u001b[38;5;124m'\u001b[39m: \u001b[38;5;124m'\u001b[39m\u001b[38;5;124m'\u001b[39m, \n\u001b[0;32m     33\u001b[0m  \u001b[38;5;124m'\u001b[39m\u001b[38;5;124mGoogle Shopping / MPN\u001b[39m\u001b[38;5;124m'\u001b[39m: \u001b[38;5;124m'\u001b[39m\u001b[38;5;124m'\u001b[39m, \u001b[38;5;124m'\u001b[39m\u001b[38;5;124mGoogle Shopping / Condition\u001b[39m\u001b[38;5;124m'\u001b[39m: \u001b[38;5;124m'\u001b[39m\u001b[38;5;124m'\u001b[39m, \n\u001b[0;32m     34\u001b[0m  \u001b[38;5;124m'\u001b[39m\u001b[38;5;124mGoogle Shopping / Custom Product\u001b[39m\u001b[38;5;124m'\u001b[39m: \u001b[38;5;124m'\u001b[39m\u001b[38;5;124m'\u001b[39m, \n\u001b[0;32m     35\u001b[0m  \u001b[38;5;124m'\u001b[39m\u001b[38;5;124mGoogle Shopping / Custom Label 0\u001b[39m\u001b[38;5;124m'\u001b[39m: \u001b[38;5;124m'\u001b[39m\u001b[38;5;124m'\u001b[39m, \n\u001b[0;32m     36\u001b[0m  \u001b[38;5;124m'\u001b[39m\u001b[38;5;124mGoogle Shopping / Custom Label 1\u001b[39m\u001b[38;5;124m'\u001b[39m: \u001b[38;5;124m'\u001b[39m\u001b[38;5;124m'\u001b[39m, \n\u001b[0;32m     37\u001b[0m  \u001b[38;5;124m'\u001b[39m\u001b[38;5;124mGoogle Shopping / Custom Label 2\u001b[39m\u001b[38;5;124m'\u001b[39m: \u001b[38;5;124m'\u001b[39m\u001b[38;5;124m'\u001b[39m, \n\u001b[0;32m     38\u001b[0m  \u001b[38;5;124m'\u001b[39m\u001b[38;5;124mGoogle Shopping / Custom Label 3\u001b[39m\u001b[38;5;124m'\u001b[39m: \u001b[38;5;124m'\u001b[39m\u001b[38;5;124m'\u001b[39m, \n\u001b[0;32m     39\u001b[0m  \u001b[38;5;124m'\u001b[39m\u001b[38;5;124mGoogle Shopping / Custom Label 4\u001b[39m\u001b[38;5;124m'\u001b[39m: \u001b[38;5;124m'\u001b[39m\u001b[38;5;124m'\u001b[39m, \n\u001b[0;32m     40\u001b[0m  \u001b[38;5;124m'\u001b[39m\u001b[38;5;124mVariant Image\u001b[39m\u001b[38;5;124m'\u001b[39m: \u001b[38;5;124m'\u001b[39m\u001b[38;5;124m'\u001b[39m, \n\u001b[0;32m     41\u001b[0m  \u001b[38;5;124m'\u001b[39m\u001b[38;5;124mVariant Weight Unit\u001b[39m\u001b[38;5;124m'\u001b[39m: \u001b[38;5;124m'\u001b[39m\u001b[38;5;124mkg\u001b[39m\u001b[38;5;124m'\u001b[39m, \n\u001b[0;32m     42\u001b[0m  \u001b[38;5;124m'\u001b[39m\u001b[38;5;124mVariant Tax Code\u001b[39m\u001b[38;5;124m'\u001b[39m: \u001b[38;5;124m'\u001b[39m\u001b[38;5;124m'\u001b[39m, \n\u001b[0;32m     43\u001b[0m  \u001b[38;5;124m'\u001b[39m\u001b[38;5;124mCost per item\u001b[39m\u001b[38;5;124m'\u001b[39m: \u001b[38;5;124m'\u001b[39m\u001b[38;5;124m'\u001b[39m, \n\u001b[0;32m     44\u001b[0m  \u001b[38;5;124m'\u001b[39m\u001b[38;5;124mIncluded / Turkiye\u001b[39m\u001b[38;5;124m'\u001b[39m: \u001b[38;5;124m'\u001b[39m\u001b[38;5;124mTRUE\u001b[39m\u001b[38;5;124m'\u001b[39m, \n\u001b[0;32m     45\u001b[0m  \u001b[38;5;124m'\u001b[39m\u001b[38;5;124mPrice / Turkiye\u001b[39m\u001b[38;5;124m'\u001b[39m: \u001b[38;5;124m'\u001b[39m\u001b[38;5;124m'\u001b[39m, \n\u001b[0;32m     46\u001b[0m  \u001b[38;5;124m'\u001b[39m\u001b[38;5;124mCompare At Price / Turkiye\u001b[39m\u001b[38;5;124m'\u001b[39m: \u001b[38;5;124m'\u001b[39m\u001b[38;5;124m'\u001b[39m, \n\u001b[0;32m     47\u001b[0m  \u001b[38;5;124m'\u001b[39m\u001b[38;5;124mIncluded / International\u001b[39m\u001b[38;5;124m'\u001b[39m: \u001b[38;5;124m'\u001b[39m\u001b[38;5;124m'\u001b[39m, \n\u001b[0;32m     48\u001b[0m  \u001b[38;5;124m'\u001b[39m\u001b[38;5;124mPrice / International\u001b[39m\u001b[38;5;124m'\u001b[39m: \u001b[38;5;124m'\u001b[39m\u001b[38;5;124m'\u001b[39m, \n\u001b[0;32m     49\u001b[0m  \u001b[38;5;124m'\u001b[39m\u001b[38;5;124mCompare At Price / International\u001b[39m\u001b[38;5;124m'\u001b[39m: \u001b[38;5;124m'\u001b[39m\u001b[38;5;124m'\u001b[39m, \n\u001b[0;32m     50\u001b[0m  \u001b[38;5;124m'\u001b[39m\u001b[38;5;124mStatus\u001b[39m\u001b[38;5;124m'\u001b[39m: \u001b[38;5;124m'\u001b[39m\u001b[38;5;124mactive\u001b[39m\u001b[38;5;124m'\u001b[39m \n\u001b[0;32m     51\u001b[0m  }\n",
      "\u001b[1;31mNameError\u001b[0m: name 'handleCreator' is not defined"
     ]
    }
   ],
   "source": [
    "{'Handle': handleCreator(title), \n",
    " 'Title': title, \n",
    " 'Body (HTML)': '', \n",
    " 'Vendor': brand_name, \n",
    " 'Product Category': '', \n",
    " 'Type': '', \n",
    " 'Tags': item_tags, \n",
    " 'Published': 'TRUE', \n",
    " 'Option1 Name': '', \n",
    " 'Option1 Value': '', \n",
    " 'Option2 Name': '', \n",
    " 'Option2 Value': '', \n",
    " 'Option3 Name': '', \n",
    " 'Option3 Value': '', \n",
    " 'Variant SKU': '', \n",
    " 'Variant Grams': '', \n",
    " 'Variant Inventory Tracker': 'shopify', \n",
    " 'Variant Inventory Qty': '0', \n",
    " 'Variant Inventory Policy': 'deny', \n",
    " 'Variant Fulfillment Service': 'manual', \n",
    " 'Variant Price': '0.00', \n",
    " 'Variant Compare At Price': '', \n",
    " 'Variant Requires Shipping': 'TRUE', \n",
    " 'Variant Taxable': 'TRUE', \n",
    " 'Variant Barcode': '', \n",
    " 'Image Src': img_url, \n",
    " 'Image Position': '1', \n",
    " 'Image Alt Text': '', \n",
    " 'Gift Card': 'False', \n",
    " 'SEO Title': '', 'SEO Description': '',\n",
    " 'Google Shopping / Google Product Category': '', \n",
    " 'Google Shopping / Gender': '', 'Google Shopping / Age Group': '', \n",
    " 'Google Shopping / MPN': '', 'Google Shopping / Condition': '', \n",
    " 'Google Shopping / Custom Product': '', \n",
    " 'Google Shopping / Custom Label 0': '', \n",
    " 'Google Shopping / Custom Label 1': '', \n",
    " 'Google Shopping / Custom Label 2': '', \n",
    " 'Google Shopping / Custom Label 3': '', \n",
    " 'Google Shopping / Custom Label 4': '', \n",
    " 'Variant Image': '', \n",
    " 'Variant Weight Unit': 'kg', \n",
    " 'Variant Tax Code': '', \n",
    " 'Cost per item': '', \n",
    " 'Included / Turkiye': 'TRUE', \n",
    " 'Price / Turkiye': '', \n",
    " 'Compare At Price / Turkiye': '', \n",
    " 'Included / International': '', \n",
    " 'Price / International': '', \n",
    " 'Compare At Price / International': '', \n",
    " 'Status': 'active' \n",
    " }"
   ]
  },
  {
   "cell_type": "code",
   "execution_count": null,
   "metadata": {},
   "outputs": [],
   "source": [
    "# kategori ağacı csv dosyasının içinde verilecek\n",
    "# kategori listelerinin her bir itemi tag olarak ürünlere eklenecek ve crown-tools'daki collection yapısı uygulanacak"
   ]
  }
 ],
 "metadata": {
  "kernelspec": {
   "display_name": "Python 3",
   "language": "python",
   "name": "python3"
  },
  "language_info": {
   "codemirror_mode": {
    "name": "ipython",
    "version": 3
   },
   "file_extension": ".py",
   "mimetype": "text/x-python",
   "name": "python",
   "nbconvert_exporter": "python",
   "pygments_lexer": "ipython3",
   "version": "3.11.8"
  }
 },
 "nbformat": 4,
 "nbformat_minor": 2
}
