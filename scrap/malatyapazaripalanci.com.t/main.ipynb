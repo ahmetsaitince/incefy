{
 "cells": [
  {
   "cell_type": "code",
   "execution_count": 1,
   "metadata": {},
   "outputs": [],
   "source": [
    "from selenium import webdriver\n",
    "from selenium.webdriver.common.by import By\n",
    "from selenium.webdriver.common.keys import Keys\n",
    "from selenium.webdriver.chrome.options import Options\n",
    "from selenium.webdriver.common.action_chains import ActionChains\n",
    "import pandas as pd\n",
    "import time"
   ]
  },
  {
   "cell_type": "code",
   "execution_count": 2,
   "metadata": {},
   "outputs": [],
   "source": [
    "def browserCreator():\n",
    "    chrome_options = Options()\n",
    "    chrome_options.add_argument('--disable-blink-features=AutomationControlled')\n",
    "    browser = webdriver.Chrome(options=chrome_options)\n",
    "    browser.maximize_window()\n",
    "    return browser"
   ]
  },
  {
   "cell_type": "code",
   "execution_count": 3,
   "metadata": {},
   "outputs": [],
   "source": [
    "def categoryFinder():\n",
    "    header_element = browser.find_element(By.CLASS_NAME, 'header_siteNav__XcQ_A')\n",
    "    category_elements = header_element.find_elements(By.CSS_SELECTOR, 'li.header_siteNavItem__ZVlvo a')\n",
    "    category_urls = []\n",
    "    for category in category_elements:\n",
    "        category_urls.append(category.get_attribute('href'))\n",
    "    return category_urls"
   ]
  },
  {
   "cell_type": "code",
   "execution_count": 4,
   "metadata": {},
   "outputs": [],
   "source": [
    "def subcategoryFinder():\n",
    "        parentSubcategory = browser.find_element(By.CSS_SELECTOR, '.sub-categories_filterValueList__QU9Fb') # subcategory_parent_div\n",
    "        subcategory_locs = parentSubcategory.find_elements(By.CSS_SELECTOR, '.sub-categories_subCategory__G3Nri a')\n",
    "        subcategory_urls = []\n",
    "        for subcategory in subcategory_locs:\n",
    "            subcategory_urls.append(subcategory.get_attribute('href'))\n",
    "        return subcategory_urls"
   ]
  },
  {
   "cell_type": "code",
   "execution_count": 5,
   "metadata": {},
   "outputs": [],
   "source": [
    "def numberChecker():\n",
    "    item_number = int(browser.find_element(By.CLASS_NAME, 'header_productCount__xqH5Q').text.split(' ',  1)[0])\n",
    "    if item_number > 20:\n",
    "        for i in range(1, 10):\n",
    "            browser.execute_script(\"window.scrollTo(0, document.body.scrollHeight);\")\n",
    "            time.sleep(2)\n",
    "    return item_number"
   ]
  },
  {
   "cell_type": "code",
   "execution_count": 22,
   "metadata": {},
   "outputs": [],
   "source": [
    "def itemCollector():\n",
    "    title = browser.find_element(By.TAG_NAME, 'h1').text\n",
    "    loc_price = browser.find_elements(By.CSS_SELECTOR, '.product-detail_price__hYyw9 span')\n",
    "\n",
    "    price_list = []\n",
    "    for price in loc_price:\n",
    "        price_list.append(price)\n",
    "    \n",
    "    loc_desc = browser.find_elements(By.CSS_SELECTOR, '.product-detail_tabContent__BUVkt p')\n",
    "\n",
    "    desc_list = []\n",
    "    for desc in desc_list:\n",
    "        desc_list.append(desc)\n",
    "    \n",
    "    "
   ]
  },
  {
   "cell_type": "code",
   "execution_count": 10,
   "metadata": {},
   "outputs": [],
   "source": [
    "def hrefCollector():\n",
    "    item_hrefs = browser.find_elements(By.CSS_SELECTOR, '.product-list_productContainer___OY2w a')\n",
    "    \n",
    "    all_items = []\n",
    "\n",
    "    for item in item_hrefs:\n",
    "        href = item.get_attribute('href')\n",
    "        all_items.append(href)\n",
    "    return all_items"
   ]
  },
  {
   "cell_type": "code",
   "execution_count": 9,
   "metadata": {},
   "outputs": [
    {
     "name": "stdout",
     "output_type": "stream",
     "text": [
      "https://malatyapazaripalanci.com.tr/kuruyemis is working...\n"
     ]
    },
    {
     "ename": "NoSuchElementException",
     "evalue": "Message: no such element: Unable to locate element: {\"method\":\"css selector\",\"selector\":\".product-card_image__ieJgG.product-card_isShowing__nimDD img\"}\n  (Session info: chrome=121.0.6167.161); For documentation on this error, please visit: https://www.selenium.dev/documentation/webdriver/troubleshooting/errors#no-such-element-exception\nStacktrace:\n\tGetHandleVerifier [0x00007FF61B015E42+3538674]\n\t(No symbol) [0x00007FF61AC34C02]\n\t(No symbol) [0x00007FF61AAE5AEB]\n\t(No symbol) [0x00007FF61AB2BF4E]\n\t(No symbol) [0x00007FF61AB2C0CC]\n\t(No symbol) [0x00007FF61AB212EC]\n\t(No symbol) [0x00007FF61AB4F0EF]\n\t(No symbol) [0x00007FF61AB2124A]\n\t(No symbol) [0x00007FF61AB4F2C0]\n\t(No symbol) [0x00007FF61AB6BDE3]\n\t(No symbol) [0x00007FF61AB4EE53]\n\t(No symbol) [0x00007FF61AB1F514]\n\t(No symbol) [0x00007FF61AB20631]\n\tGetHandleVerifier [0x00007FF61B046CAD+3738973]\n\tGetHandleVerifier [0x00007FF61B09C506+4089270]\n\tGetHandleVerifier [0x00007FF61B094823+4057299]\n\tGetHandleVerifier [0x00007FF61AD65C49+720121]\n\t(No symbol) [0x00007FF61AC4126F]\n\t(No symbol) [0x00007FF61AC3C304]\n\t(No symbol) [0x00007FF61AC3C432]\n\t(No symbol) [0x00007FF61AC2BD04]\n\tBaseThreadInitThunk [0x00007FF8C7CE257D+29]\n\tRtlUserThreadStart [0x00007FF8C89EAA58+40]\n",
     "output_type": "error",
     "traceback": [
      "\u001b[1;31m---------------------------------------------------------------------------\u001b[0m",
      "\u001b[1;31mNoSuchElementException\u001b[0m                    Traceback (most recent call last)",
      "Cell \u001b[1;32mIn[9], line 5\u001b[0m\n\u001b[0;32m      3\u001b[0m \u001b[38;5;28mprint\u001b[39m(\u001b[38;5;124mf\u001b[39m\u001b[38;5;124m'\u001b[39m\u001b[38;5;132;01m{\u001b[39;00mcategory\u001b[38;5;132;01m}\u001b[39;00m\u001b[38;5;124m is working...\u001b[39m\u001b[38;5;124m'\u001b[39m)\n\u001b[0;32m      4\u001b[0m item_number \u001b[38;5;241m=\u001b[39m numberChecker()\n\u001b[1;32m----> 5\u001b[0m category_items \u001b[38;5;241m=\u001b[39m \u001b[43mitemCollector\u001b[49m\u001b[43m(\u001b[49m\u001b[43m)\u001b[49m\n\u001b[0;32m      6\u001b[0m export_items\u001b[38;5;241m.\u001b[39mappend(category_items)\n\u001b[0;32m      7\u001b[0m \u001b[38;5;28mprint\u001b[39m(\u001b[38;5;124mf\u001b[39m\u001b[38;5;124m'\u001b[39m\u001b[38;5;132;01m{\u001b[39;00mbrowser\u001b[38;5;241m.\u001b[39mcurrent_url\u001b[38;5;132;01m}\u001b[39;00m\u001b[38;5;124m has \u001b[39m\u001b[38;5;132;01m{\u001b[39;00mitem_number\u001b[38;5;132;01m}\u001b[39;00m\u001b[38;5;124m of items, and \u001b[39m\u001b[38;5;132;01m{\u001b[39;00m\u001b[38;5;28mlen\u001b[39m(category_items)\u001b[38;5;132;01m}\u001b[39;00m\u001b[38;5;124m item collected.\u001b[39m\u001b[38;5;124m'\u001b[39m)\n",
      "Cell \u001b[1;32mIn[6], line 10\u001b[0m, in \u001b[0;36mitemCollector\u001b[1;34m()\u001b[0m\n\u001b[0;32m      8\u001b[0m     brand \u001b[38;5;241m=\u001b[39m item\u001b[38;5;241m.\u001b[39mfind_element(By\u001b[38;5;241m.\u001b[39mCLASS_NAME, \u001b[38;5;124m'\u001b[39m\u001b[38;5;124mproduct-card_productVendor__RQ1wV\u001b[39m\u001b[38;5;124m'\u001b[39m)\u001b[38;5;241m.\u001b[39mtext\n\u001b[0;32m      9\u001b[0m     price \u001b[38;5;241m=\u001b[39m item\u001b[38;5;241m.\u001b[39mfind_element(By\u001b[38;5;241m.\u001b[39mCLASS_NAME, \u001b[38;5;124m'\u001b[39m\u001b[38;5;124mproduct-card_productPrice__37so7\u001b[39m\u001b[38;5;124m'\u001b[39m)\u001b[38;5;241m.\u001b[39mtext\n\u001b[1;32m---> 10\u001b[0m     img_url \u001b[38;5;241m=\u001b[39m \u001b[43mitem\u001b[49m\u001b[38;5;241;43m.\u001b[39;49m\u001b[43mfind_element\u001b[49m\u001b[43m(\u001b[49m\u001b[43mBy\u001b[49m\u001b[38;5;241;43m.\u001b[39;49m\u001b[43mCSS_SELECTOR\u001b[49m\u001b[43m,\u001b[49m\u001b[43m \u001b[49m\u001b[38;5;124;43m'\u001b[39;49m\u001b[38;5;124;43m.product-card_image__ieJgG.product-card_isShowing__nimDD img\u001b[39;49m\u001b[38;5;124;43m'\u001b[39;49m\u001b[43m)\u001b[49m\u001b[38;5;241m.\u001b[39mget_attribute(\u001b[38;5;124m'\u001b[39m\u001b[38;5;124msrc\u001b[39m\u001b[38;5;124m'\u001b[39m)\n\u001b[0;32m     11\u001b[0m     all_items\u001b[38;5;241m.\u001b[39mappend([title, price, brand])\n\u001b[0;32m     13\u001b[0m \u001b[38;5;28;01mreturn\u001b[39;00m all_items\n",
      "File \u001b[1;32m~\\AppData\\Local\\Packages\\PythonSoftwareFoundation.Python.3.11_qbz5n2kfra8p0\\LocalCache\\local-packages\\Python311\\site-packages\\selenium\\webdriver\\remote\\webelement.py:417\u001b[0m, in \u001b[0;36mWebElement.find_element\u001b[1;34m(self, by, value)\u001b[0m\n\u001b[0;32m    414\u001b[0m     by \u001b[38;5;241m=\u001b[39m By\u001b[38;5;241m.\u001b[39mCSS_SELECTOR\n\u001b[0;32m    415\u001b[0m     value \u001b[38;5;241m=\u001b[39m \u001b[38;5;124mf\u001b[39m\u001b[38;5;124m'\u001b[39m\u001b[38;5;124m[name=\u001b[39m\u001b[38;5;124m\"\u001b[39m\u001b[38;5;132;01m{\u001b[39;00mvalue\u001b[38;5;132;01m}\u001b[39;00m\u001b[38;5;124m\"\u001b[39m\u001b[38;5;124m]\u001b[39m\u001b[38;5;124m'\u001b[39m\n\u001b[1;32m--> 417\u001b[0m \u001b[38;5;28;01mreturn\u001b[39;00m \u001b[38;5;28;43mself\u001b[39;49m\u001b[38;5;241;43m.\u001b[39;49m\u001b[43m_execute\u001b[49m\u001b[43m(\u001b[49m\u001b[43mCommand\u001b[49m\u001b[38;5;241;43m.\u001b[39;49m\u001b[43mFIND_CHILD_ELEMENT\u001b[49m\u001b[43m,\u001b[49m\u001b[43m \u001b[49m\u001b[43m{\u001b[49m\u001b[38;5;124;43m\"\u001b[39;49m\u001b[38;5;124;43musing\u001b[39;49m\u001b[38;5;124;43m\"\u001b[39;49m\u001b[43m:\u001b[49m\u001b[43m \u001b[49m\u001b[43mby\u001b[49m\u001b[43m,\u001b[49m\u001b[43m \u001b[49m\u001b[38;5;124;43m\"\u001b[39;49m\u001b[38;5;124;43mvalue\u001b[39;49m\u001b[38;5;124;43m\"\u001b[39;49m\u001b[43m:\u001b[49m\u001b[43m \u001b[49m\u001b[43mvalue\u001b[49m\u001b[43m}\u001b[49m\u001b[43m)\u001b[49m[\u001b[38;5;124m\"\u001b[39m\u001b[38;5;124mvalue\u001b[39m\u001b[38;5;124m\"\u001b[39m]\n",
      "File \u001b[1;32m~\\AppData\\Local\\Packages\\PythonSoftwareFoundation.Python.3.11_qbz5n2kfra8p0\\LocalCache\\local-packages\\Python311\\site-packages\\selenium\\webdriver\\remote\\webelement.py:395\u001b[0m, in \u001b[0;36mWebElement._execute\u001b[1;34m(self, command, params)\u001b[0m\n\u001b[0;32m    393\u001b[0m     params \u001b[38;5;241m=\u001b[39m {}\n\u001b[0;32m    394\u001b[0m params[\u001b[38;5;124m\"\u001b[39m\u001b[38;5;124mid\u001b[39m\u001b[38;5;124m\"\u001b[39m] \u001b[38;5;241m=\u001b[39m \u001b[38;5;28mself\u001b[39m\u001b[38;5;241m.\u001b[39m_id\n\u001b[1;32m--> 395\u001b[0m \u001b[38;5;28;01mreturn\u001b[39;00m \u001b[38;5;28;43mself\u001b[39;49m\u001b[38;5;241;43m.\u001b[39;49m\u001b[43m_parent\u001b[49m\u001b[38;5;241;43m.\u001b[39;49m\u001b[43mexecute\u001b[49m\u001b[43m(\u001b[49m\u001b[43mcommand\u001b[49m\u001b[43m,\u001b[49m\u001b[43m \u001b[49m\u001b[43mparams\u001b[49m\u001b[43m)\u001b[49m\n",
      "File \u001b[1;32m~\\AppData\\Local\\Packages\\PythonSoftwareFoundation.Python.3.11_qbz5n2kfra8p0\\LocalCache\\local-packages\\Python311\\site-packages\\selenium\\webdriver\\remote\\webdriver.py:345\u001b[0m, in \u001b[0;36mWebDriver.execute\u001b[1;34m(self, driver_command, params)\u001b[0m\n\u001b[0;32m    343\u001b[0m response \u001b[38;5;241m=\u001b[39m \u001b[38;5;28mself\u001b[39m\u001b[38;5;241m.\u001b[39mcommand_executor\u001b[38;5;241m.\u001b[39mexecute(driver_command, params)\n\u001b[0;32m    344\u001b[0m \u001b[38;5;28;01mif\u001b[39;00m response:\n\u001b[1;32m--> 345\u001b[0m     \u001b[38;5;28;43mself\u001b[39;49m\u001b[38;5;241;43m.\u001b[39;49m\u001b[43merror_handler\u001b[49m\u001b[38;5;241;43m.\u001b[39;49m\u001b[43mcheck_response\u001b[49m\u001b[43m(\u001b[49m\u001b[43mresponse\u001b[49m\u001b[43m)\u001b[49m\n\u001b[0;32m    346\u001b[0m     response[\u001b[38;5;124m\"\u001b[39m\u001b[38;5;124mvalue\u001b[39m\u001b[38;5;124m\"\u001b[39m] \u001b[38;5;241m=\u001b[39m \u001b[38;5;28mself\u001b[39m\u001b[38;5;241m.\u001b[39m_unwrap_value(response\u001b[38;5;241m.\u001b[39mget(\u001b[38;5;124m\"\u001b[39m\u001b[38;5;124mvalue\u001b[39m\u001b[38;5;124m\"\u001b[39m, \u001b[38;5;28;01mNone\u001b[39;00m))\n\u001b[0;32m    347\u001b[0m     \u001b[38;5;28;01mreturn\u001b[39;00m response\n",
      "File \u001b[1;32m~\\AppData\\Local\\Packages\\PythonSoftwareFoundation.Python.3.11_qbz5n2kfra8p0\\LocalCache\\local-packages\\Python311\\site-packages\\selenium\\webdriver\\remote\\errorhandler.py:229\u001b[0m, in \u001b[0;36mErrorHandler.check_response\u001b[1;34m(self, response)\u001b[0m\n\u001b[0;32m    227\u001b[0m         alert_text \u001b[38;5;241m=\u001b[39m value[\u001b[38;5;124m\"\u001b[39m\u001b[38;5;124malert\u001b[39m\u001b[38;5;124m\"\u001b[39m]\u001b[38;5;241m.\u001b[39mget(\u001b[38;5;124m\"\u001b[39m\u001b[38;5;124mtext\u001b[39m\u001b[38;5;124m\"\u001b[39m)\n\u001b[0;32m    228\u001b[0m     \u001b[38;5;28;01mraise\u001b[39;00m exception_class(message, screen, stacktrace, alert_text)  \u001b[38;5;66;03m# type: ignore[call-arg]  # mypy is not smart enough here\u001b[39;00m\n\u001b[1;32m--> 229\u001b[0m \u001b[38;5;28;01mraise\u001b[39;00m exception_class(message, screen, stacktrace)\n",
      "\u001b[1;31mNoSuchElementException\u001b[0m: Message: no such element: Unable to locate element: {\"method\":\"css selector\",\"selector\":\".product-card_image__ieJgG.product-card_isShowing__nimDD img\"}\n  (Session info: chrome=121.0.6167.161); For documentation on this error, please visit: https://www.selenium.dev/documentation/webdriver/troubleshooting/errors#no-such-element-exception\nStacktrace:\n\tGetHandleVerifier [0x00007FF61B015E42+3538674]\n\t(No symbol) [0x00007FF61AC34C02]\n\t(No symbol) [0x00007FF61AAE5AEB]\n\t(No symbol) [0x00007FF61AB2BF4E]\n\t(No symbol) [0x00007FF61AB2C0CC]\n\t(No symbol) [0x00007FF61AB212EC]\n\t(No symbol) [0x00007FF61AB4F0EF]\n\t(No symbol) [0x00007FF61AB2124A]\n\t(No symbol) [0x00007FF61AB4F2C0]\n\t(No symbol) [0x00007FF61AB6BDE3]\n\t(No symbol) [0x00007FF61AB4EE53]\n\t(No symbol) [0x00007FF61AB1F514]\n\t(No symbol) [0x00007FF61AB20631]\n\tGetHandleVerifier [0x00007FF61B046CAD+3738973]\n\tGetHandleVerifier [0x00007FF61B09C506+4089270]\n\tGetHandleVerifier [0x00007FF61B094823+4057299]\n\tGetHandleVerifier [0x00007FF61AD65C49+720121]\n\t(No symbol) [0x00007FF61AC4126F]\n\t(No symbol) [0x00007FF61AC3C304]\n\t(No symbol) [0x00007FF61AC3C432]\n\t(No symbol) [0x00007FF61AC2BD04]\n\tBaseThreadInitThunk [0x00007FF8C7CE257D+29]\n\tRtlUserThreadStart [0x00007FF8C89EAA58+40]\n"
     ]
    }
   ],
   "source": [
    "for category in categories:\n",
    "    browser.get(category)\n",
    "    print(f'{category} is working...')\n",
    "    item_number = numberChecker()\n",
    "    category_items = itemCollector()\n",
    "    export_items.append(category_items)\n",
    "    print(f'{browser.current_url} has {item_number} of items, and {len(category_items)} item collected.')"
   ]
  },
  {
   "cell_type": "code",
   "execution_count": null,
   "metadata": {},
   "outputs": [],
   "source": [
    "df = pd.DataFrame(all_items)\n",
    "df.to_excel('malatya.xlsx')"
   ]
  }
 ],
 "metadata": {
  "kernelspec": {
   "display_name": "Python 3",
   "language": "python",
   "name": "python3"
  },
  "language_info": {
   "codemirror_mode": {
    "name": "ipython",
    "version": 3
   },
   "file_extension": ".py",
   "mimetype": "text/x-python",
   "name": "python",
   "nbconvert_exporter": "python",
   "pygments_lexer": "ipython3",
   "version": "3.11.7"
  }
 },
 "nbformat": 4,
 "nbformat_minor": 2
}
