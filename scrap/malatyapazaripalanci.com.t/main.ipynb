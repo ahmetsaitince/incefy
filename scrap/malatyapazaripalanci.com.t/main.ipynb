{
 "cells": [
  {
   "cell_type": "code",
   "execution_count": 49,
   "metadata": {},
   "outputs": [],
   "source": [
    "from selenium import webdriver\n",
    "from selenium.webdriver.common.by import By\n",
    "from selenium.webdriver.common.keys import Keys\n",
    "from selenium.webdriver.chrome.options import Options\n",
    "from selenium.webdriver.common.action_chains import ActionChains\n",
    "import pandas as pd\n",
    "import time"
   ]
  },
  {
   "cell_type": "code",
   "execution_count": 50,
   "metadata": {},
   "outputs": [],
   "source": [
    "def browserCreator():\n",
    "    chrome_options = Options()\n",
    "    chrome_options.add_argument('--disable-blink-features=AutomationControlled')\n",
    "    browser = webdriver.Chrome(options=chrome_options)\n",
    "    browser.maximize_window()\n",
    "    return browser"
   ]
  },
  {
   "cell_type": "code",
   "execution_count": 51,
   "metadata": {},
   "outputs": [],
   "source": [
    "def categoryFinder():\n",
    "    header_element = browser.find_element(By.CLASS_NAME, 'header_siteNav__XcQ_A')\n",
    "    category_elements = header_element.find_elements(By.CSS_SELECTOR, 'li.header_siteNavItem__ZVlvo a')\n",
    "    category_urls = []\n",
    "    for category in category_elements:\n",
    "        category_urls.append(category.get_attribute('href'))\n",
    "    return category_urls"
   ]
  },
  {
   "cell_type": "code",
   "execution_count": 52,
   "metadata": {},
   "outputs": [],
   "source": [
    "def subcategoryFinder():\n",
    "        parentSubcategory = browser.find_element(By.CSS_SELECTOR, '.sub-categories_filterValueList__QU9Fb') # subcategory_parent_div\n",
    "        subcategory_locs = parentSubcategory.find_elements(By.CSS_SELECTOR, '.sub-categories_subCategory__G3Nri a')\n",
    "        subcategory_urls = []\n",
    "        for subcategory in subcategory_locs:\n",
    "            subcategory_urls.append(subcategory.get_attribute('href'))\n",
    "        return subcategory_urls"
   ]
  },
  {
   "cell_type": "code",
   "execution_count": 53,
   "metadata": {},
   "outputs": [],
   "source": [
    "def numberChecker():\n",
    "    item_number = int(browser.find_element(By.CLASS_NAME, 'header_productCount__xqH5Q').text.split(' ',  1)[0])\n",
    "    if item_number > 20:\n",
    "        for i in range(1, 10):\n",
    "            browser.execute_script(\"window.scrollTo(0, document.body.scrollHeight);\")\n",
    "            time.sleep(2)\n",
    "    return item_number"
   ]
  },
  {
   "cell_type": "code",
   "execution_count": 54,
   "metadata": {},
   "outputs": [],
   "source": [
    "def itemCollector(href):\n",
    "    browser.get(href)\n",
    "    time.sleep(1)\n",
    "    item_url = browser.current_url\n",
    "    title = browser.find_element(By.TAG_NAME, 'h1').text\n",
    "    item_sku = browser.find_element(By.CSS_SELECTOR, '.product-detail_productSku__mmZ6I').text\n",
    "\n",
    "    loc_price = browser.find_elements(By.CSS_SELECTOR, '.product-detail_price__hYyw9 span')\n",
    "    price_list = []\n",
    "    for price in loc_price:\n",
    "        price_list.append(price.text)\n",
    "    \n",
    "    loc_desc = browser.find_elements(By.CSS_SELECTOR, '.product-detail_tabContent__BUVkt p')\n",
    "\n",
    "    desc_list = []\n",
    "    for desc in loc_desc:\n",
    "        desc_list.append(desc.text)\n",
    "    \n",
    "    loc_img = browser.find_elements(By.CSS_SELECTOR, '.custom-slider_slider__CqA7J.custom-slider_vertical__nab7S img')\n",
    "    \n",
    "    img_list = []\n",
    "    for img in loc_img:\n",
    "        img_list.append(img.get_attribute('src'))\n",
    "    \n",
    "    loc_breadcrumb = browser.find_elements(By.CLASS_NAME, 'breadcrumbs_breadcrumbText__Og0cB')\n",
    "\n",
    "    breadcrumbs = []\n",
    "    for bc in loc_breadcrumb:\n",
    "        breadcrumbs.append(bc.text)\n",
    "    \n",
    "    return [item_url, title, price_list[-1], item_sku, img_list[0], str(breadcrumbs), '', str(desc_list), str(price_list), str(img_list)]"
   ]
  },
  {
   "cell_type": "code",
   "execution_count": 55,
   "metadata": {},
   "outputs": [],
   "source": [
    "def hrefCollector():\n",
    "    item_hrefs = browser.find_elements(By.CSS_SELECTOR, '.product-list_productContainer___OY2w a')\n",
    "    \n",
    "    all_items = []\n",
    "\n",
    "    for item in item_hrefs:\n",
    "        href = item.get_attribute('href')\n",
    "        all_items.append(href)\n",
    "    return all_items"
   ]
  },
  {
   "cell_type": "code",
   "execution_count": 56,
   "metadata": {},
   "outputs": [],
   "source": [
    "browser = browserCreator()\n",
    "browser.get('https://malatyapazaripalanci.com.tr/')\n",
    "categories = categoryFinder()\n",
    "export_items = []"
   ]
  },
  {
   "cell_type": "code",
   "execution_count": 57,
   "metadata": {},
   "outputs": [
    {
     "name": "stdout",
     "output_type": "stream",
     "text": [
      "https://malatyapazaripalanci.com.tr/kuruyemis is working...\n",
      "ERROR: https://malatyapazaripalanci.com.tr/pirinc-badem-100-g\n",
      "ERROR: https://malatyapazaripalanci.com.tr/pirinc-badem\n",
      "https://malatyapazaripalanci.com.tr/antep-fistik has 118 of items, and 118 item collected.\n",
      "https://malatyapazaripalanci.com.tr/kurumeyve is working...\n",
      "ERROR: https://malatyapazaripalanci.com.tr/sukkari-hurma-500-g\n",
      "ERROR: https://malatyapazaripalanci.com.tr/yerli-incir-kurusu-100-g\n",
      "ERROR: https://malatyapazaripalanci.com.tr/yerli-mandalina-kurusu-100-g\n",
      "ERROR: https://malatyapazaripalanci.com.tr/anatolian-kuru-kayisi-220-gr\n",
      "ERROR: https://malatyapazaripalanci.com.tr/anatolian-naturel-kayisi-220-gr\n",
      "ERROR: https://malatyapazaripalanci.com.tr/anatolian-kuru-kayisi-yaprak-170-gr\n",
      "ERROR: https://malatyapazaripalanci.com.tr/anatolian-naturel-kayisi-yaprak-170-gr\n",
      "ERROR: https://malatyapazaripalanci.com.tr/medjoul-medium-hurma-250-g\n",
      "ERROR: https://malatyapazaripalanci.com.tr/medine-hurma-250-g\n",
      "ERROR: https://malatyapazaripalanci.com.tr/medjoul-small-hurma-250-g\n",
      "ERROR: https://malatyapazaripalanci.com.tr/medjoul-small-hurma\n",
      "ERROR: https://malatyapazaripalanci.com.tr/medine-hurma\n",
      "ERROR: https://malatyapazaripalanci.com.tr/medjoul-siyah-hurma\n",
      "ERROR: https://malatyapazaripalanci.com.tr/cekirdekli-siyah-uzum-250-g\n",
      "ERROR: https://malatyapazaripalanci.com.tr/cekirdekli-siyah-uzum\n",
      "ERROR: https://malatyapazaripalanci.com.tr/incir-kuru-protoben-250-g\n",
      "ERROR: https://malatyapazaripalanci.com.tr/kuru-incir-250-g\n",
      "ERROR: https://malatyapazaripalanci.com.tr/kuru-incir\n",
      "ERROR: https://malatyapazaripalanci.com.tr/kurutulmus-cekirdeksiz-erik-250-g\n",
      "ERROR: https://malatyapazaripalanci.com.tr/karadut-kurusu-250-g\n",
      "ERROR: https://malatyapazaripalanci.com.tr/kurutulmus-cekirdeksiz-erik\n",
      "ERROR: https://malatyapazaripalanci.com.tr/karadut-kurusu\n",
      "ERROR: https://malatyapazaripalanci.com.tr/kurutulmus-karisik-meyve-tfrutti-250-g\n",
      "ERROR: https://malatyapazaripalanci.com.tr/yaprak-erik-kurusu\n",
      "ERROR: https://malatyapazaripalanci.com.tr/yaprak-erik-kurusu-250-g\n",
      "ERROR: https://malatyapazaripalanci.com.tr/kurutulmus-karisik-meyve-tfrutti\n",
      "ERROR: https://malatyapazaripalanci.com.tr/kurutulmus-bogurtlen-250-g\n",
      "ERROR: https://malatyapazaripalanci.com.tr/visne-kurusu\n",
      "ERROR: https://malatyapazaripalanci.com.tr/kurutulmus-bogurtlen\n",
      "ERROR: https://malatyapazaripalanci.com.tr/visne-kurusu-250-g\n",
      "ERROR: https://malatyapazaripalanci.com.tr/yerli-mandalina-kurusu\n",
      "ERROR: https://malatyapazaripalanci.com.tr/yerli-trabzon-hurmasi\n",
      "ERROR: https://malatyapazaripalanci.com.tr/yerli-incir-kurusu\n",
      "ERROR: https://malatyapazaripalanci.com.tr/yerli-trabzon-hurmasi-250-g\n",
      "https://malatyapazaripalanci.com.tr/ananas-kurutulmus-yerli has 149 of items, and 149 item collected.\n",
      "https://malatyapazaripalanci.com.tr/lokum is working...\n",
      "ERROR: https://malatyapazaripalanci.com.tr/zerec-uzumlu-nuga-helva\n",
      "ERROR: https://malatyapazaripalanci.com.tr/safranli-narli-fitil-lokum-250-g\n",
      "ERROR: https://malatyapazaripalanci.com.tr/safranli-narli-fitil-lokum\n",
      "https://malatyapazaripalanci.com.tr/balli-parmak-lokum has 68 of items, and 68 item collected.\n",
      "https://malatyapazaripalanci.com.tr/hediyelik is working...\n",
      "ERROR: https://malatyapazaripalanci.com.tr/karisik-nuga-helva-kutu-300-g\n",
      "ERROR: https://malatyapazaripalanci.com.tr/ottoman-karisik-hurma-ve-hurma-dolmasi-790-g\n",
      "ERROR: https://malatyapazaripalanci.com.tr/sifa-olsun-kutusu\n",
      "ERROR: https://malatyapazaripalanci.com.tr/kis-seti-kupali\n",
      "ERROR: https://malatyapazaripalanci.com.tr/kis-cayi-seti\n",
      "ERROR: https://malatyapazaripalanci.com.tr/premium-ahsap-kis-seti\n",
      "https://malatyapazaripalanci.com.tr/anatolian-special-bar-100-g has 80 of items, and 80 item collected.\n",
      "https://malatyapazaripalanci.com.tr/premium-serisi is working...\n",
      "ERROR: https://malatyapazaripalanci.com.tr/metal-kutu-karisik-hurma-dolmasi-780-g\n",
      "ERROR: https://malatyapazaripalanci.com.tr/metal-kutu-karisik-hurma-560-g\n",
      "ERROR: https://malatyapazaripalanci.com.tr/premium-siyah-kutu-kurumeyve-seti\n",
      "ERROR: https://malatyapazaripalanci.com.tr/lazer-kesim-kahverengi-ahsap-kutu-karisik-lokum-470-g-550-g\n",
      "ERROR: https://malatyapazaripalanci.com.tr/premium-kutu-kurumeyve-seti\n",
      "ERROR: https://malatyapazaripalanci.com.tr/siyah-asetat-kapakli-kutu-kurumeyve-mix-800-g\n",
      "ERROR: https://malatyapazaripalanci.com.tr/sifa-olsun-kutusu\n",
      "ERROR: https://malatyapazaripalanci.com.tr/premium-ahsap-kis-seti\n",
      "ERROR: https://malatyapazaripalanci.com.tr/bordo-dort-basamakli-kuruyemis-kutusu-780-g\n",
      "ERROR: https://malatyapazaripalanci.com.tr/deri-ahsap-kutu-special-550-g\n",
      "ERROR: https://malatyapazaripalanci.com.tr/kirmizi-kadife-kutu-special-890-gr\n",
      "ERROR: https://malatyapazaripalanci.com.tr/karisik-hurma-dolmasi-ortakoy-manzarali-ahsap-kutu-1500-g\n",
      "ERROR: https://malatyapazaripalanci.com.tr/mavi-kadife-kutu-special-440-gr\n",
      "ERROR: https://malatyapazaripalanci.com.tr/kadife-osmanli-tugrali-kutu-special\n",
      "https://malatyapazaripalanci.com.tr/kafes-kutu-karisik-kurumeyve-1000-g-acik-kahve has 62 of items, and 62 item collected.\n",
      "https://malatyapazaripalanci.com.tr/yoresel-tatlar is working...\n",
      "ERROR: https://malatyapazaripalanci.com.tr/kopuk-pestili\n",
      "ERROR: https://malatyapazaripalanci.com.tr/pismaniye-meyveli-cerezli-260-gr\n",
      "ERROR: https://malatyapazaripalanci.com.tr/keciboynuzu-ozu-soguk-pres-350-gr\n",
      "ERROR: https://malatyapazaripalanci.com.tr/keciboynuzu-ozu-soguk-pres-700-gr\n",
      "ERROR: https://malatyapazaripalanci.com.tr/uzum-pekmezi-340-gr\n",
      "ERROR: https://malatyapazaripalanci.com.tr/kestane-sekeri-180-gr\n",
      "ERROR: https://malatyapazaripalanci.com.tr/anatolian-kuru-incir-220-gr\n",
      "ERROR: https://malatyapazaripalanci.com.tr/anatolian-kuru-erik-170-gr\n",
      "ERROR: https://malatyapazaripalanci.com.tr/cezerye-fistikli-yaprak-250-g\n",
      "ERROR: https://malatyapazaripalanci.com.tr/cezerye-fistikli-yaprak\n",
      "ERROR: https://malatyapazaripalanci.com.tr/anatolian-siyah-cekirdekli-uzum-220-gr\n",
      "ERROR: https://malatyapazaripalanci.com.tr/anatolian-dut-kurusu-120-gr\n",
      "ERROR: https://malatyapazaripalanci.com.tr/domates-kurusu\n",
      "ERROR: https://malatyapazaripalanci.com.tr/domates-kurusu-250-g\n"
     ]
    },
    {
     "ename": "NoSuchWindowException",
     "evalue": "Message: no such window: target window already closed\nfrom unknown error: web view not found\n  (Session info: chrome=121.0.6167.161)\nStacktrace:\n\tGetHandleVerifier [0x00007FF61B015E42+3538674]\n\t(No symbol) [0x00007FF61AC34C02]\n\t(No symbol) [0x00007FF61AAE5AEB]\n\t(No symbol) [0x00007FF61AAC288C]\n\t(No symbol) [0x00007FF61AB55DD7]\n\t(No symbol) [0x00007FF61AB6B40F]\n\t(No symbol) [0x00007FF61AB4EE53]\n\t(No symbol) [0x00007FF61AB1F514]\n\t(No symbol) [0x00007FF61AB20631]\n\tGetHandleVerifier [0x00007FF61B046CAD+3738973]\n\tGetHandleVerifier [0x00007FF61B09C506+4089270]\n\tGetHandleVerifier [0x00007FF61B094823+4057299]\n\tGetHandleVerifier [0x00007FF61AD65C49+720121]\n\t(No symbol) [0x00007FF61AC4126F]\n\t(No symbol) [0x00007FF61AC3C304]\n\t(No symbol) [0x00007FF61AC3C432]\n\t(No symbol) [0x00007FF61AC2BD04]\n\tBaseThreadInitThunk [0x00007FF8C7CE257D+29]\n\tRtlUserThreadStart [0x00007FF8C89EAA58+40]\n",
     "output_type": "error",
     "traceback": [
      "\u001b[1;31m---------------------------------------------------------------------------\u001b[0m",
      "\u001b[1;31mNoSuchWindowException\u001b[0m                     Traceback (most recent call last)",
      "Cell \u001b[1;32mIn[57], line 16\u001b[0m\n\u001b[0;32m     14\u001b[0m         \u001b[38;5;28;01mexcept\u001b[39;00m:\n\u001b[0;32m     15\u001b[0m             \u001b[38;5;28mprint\u001b[39m(\u001b[38;5;124mf\u001b[39m\u001b[38;5;124m'\u001b[39m\u001b[38;5;124mERROR: \u001b[39m\u001b[38;5;132;01m{\u001b[39;00mitem\u001b[38;5;132;01m}\u001b[39;00m\u001b[38;5;124m'\u001b[39m)\n\u001b[1;32m---> 16\u001b[0m \u001b[38;5;28mprint\u001b[39m(\u001b[38;5;124mf\u001b[39m\u001b[38;5;124m'\u001b[39m\u001b[38;5;132;01m{\u001b[39;00m\u001b[43mbrowser\u001b[49m\u001b[38;5;241;43m.\u001b[39;49m\u001b[43mcurrent_url\u001b[49m\u001b[38;5;132;01m}\u001b[39;00m\u001b[38;5;124m has \u001b[39m\u001b[38;5;132;01m{\u001b[39;00mitem_number\u001b[38;5;132;01m}\u001b[39;00m\u001b[38;5;124m of items, and \u001b[39m\u001b[38;5;132;01m{\u001b[39;00m\u001b[38;5;28mlen\u001b[39m(category_items)\u001b[38;5;132;01m}\u001b[39;00m\u001b[38;5;124m item collected.\u001b[39m\u001b[38;5;124m'\u001b[39m)\n",
      "File \u001b[1;32m~\\AppData\\Local\\Packages\\PythonSoftwareFoundation.Python.3.11_qbz5n2kfra8p0\\LocalCache\\local-packages\\Python311\\site-packages\\selenium\\webdriver\\remote\\webdriver.py:435\u001b[0m, in \u001b[0;36mWebDriver.current_url\u001b[1;34m(self)\u001b[0m\n\u001b[0;32m    426\u001b[0m \u001b[38;5;129m@property\u001b[39m\n\u001b[0;32m    427\u001b[0m \u001b[38;5;28;01mdef\u001b[39;00m \u001b[38;5;21mcurrent_url\u001b[39m(\u001b[38;5;28mself\u001b[39m) \u001b[38;5;241m-\u001b[39m\u001b[38;5;241m>\u001b[39m \u001b[38;5;28mstr\u001b[39m:\n\u001b[0;32m    428\u001b[0m \u001b[38;5;250m    \u001b[39m\u001b[38;5;124;03m\"\"\"Gets the URL of the current page.\u001b[39;00m\n\u001b[0;32m    429\u001b[0m \n\u001b[0;32m    430\u001b[0m \u001b[38;5;124;03m    :Usage:\u001b[39;00m\n\u001b[1;32m   (...)\u001b[0m\n\u001b[0;32m    433\u001b[0m \u001b[38;5;124;03m            driver.current_url\u001b[39;00m\n\u001b[0;32m    434\u001b[0m \u001b[38;5;124;03m    \"\"\"\u001b[39;00m\n\u001b[1;32m--> 435\u001b[0m     \u001b[38;5;28;01mreturn\u001b[39;00m \u001b[38;5;28;43mself\u001b[39;49m\u001b[38;5;241;43m.\u001b[39;49m\u001b[43mexecute\u001b[49m\u001b[43m(\u001b[49m\u001b[43mCommand\u001b[49m\u001b[38;5;241;43m.\u001b[39;49m\u001b[43mGET_CURRENT_URL\u001b[49m\u001b[43m)\u001b[49m[\u001b[38;5;124m\"\u001b[39m\u001b[38;5;124mvalue\u001b[39m\u001b[38;5;124m\"\u001b[39m]\n",
      "File \u001b[1;32m~\\AppData\\Local\\Packages\\PythonSoftwareFoundation.Python.3.11_qbz5n2kfra8p0\\LocalCache\\local-packages\\Python311\\site-packages\\selenium\\webdriver\\remote\\webdriver.py:345\u001b[0m, in \u001b[0;36mWebDriver.execute\u001b[1;34m(self, driver_command, params)\u001b[0m\n\u001b[0;32m    343\u001b[0m response \u001b[38;5;241m=\u001b[39m \u001b[38;5;28mself\u001b[39m\u001b[38;5;241m.\u001b[39mcommand_executor\u001b[38;5;241m.\u001b[39mexecute(driver_command, params)\n\u001b[0;32m    344\u001b[0m \u001b[38;5;28;01mif\u001b[39;00m response:\n\u001b[1;32m--> 345\u001b[0m     \u001b[38;5;28;43mself\u001b[39;49m\u001b[38;5;241;43m.\u001b[39;49m\u001b[43merror_handler\u001b[49m\u001b[38;5;241;43m.\u001b[39;49m\u001b[43mcheck_response\u001b[49m\u001b[43m(\u001b[49m\u001b[43mresponse\u001b[49m\u001b[43m)\u001b[49m\n\u001b[0;32m    346\u001b[0m     response[\u001b[38;5;124m\"\u001b[39m\u001b[38;5;124mvalue\u001b[39m\u001b[38;5;124m\"\u001b[39m] \u001b[38;5;241m=\u001b[39m \u001b[38;5;28mself\u001b[39m\u001b[38;5;241m.\u001b[39m_unwrap_value(response\u001b[38;5;241m.\u001b[39mget(\u001b[38;5;124m\"\u001b[39m\u001b[38;5;124mvalue\u001b[39m\u001b[38;5;124m\"\u001b[39m, \u001b[38;5;28;01mNone\u001b[39;00m))\n\u001b[0;32m    347\u001b[0m     \u001b[38;5;28;01mreturn\u001b[39;00m response\n",
      "File \u001b[1;32m~\\AppData\\Local\\Packages\\PythonSoftwareFoundation.Python.3.11_qbz5n2kfra8p0\\LocalCache\\local-packages\\Python311\\site-packages\\selenium\\webdriver\\remote\\errorhandler.py:229\u001b[0m, in \u001b[0;36mErrorHandler.check_response\u001b[1;34m(self, response)\u001b[0m\n\u001b[0;32m    227\u001b[0m         alert_text \u001b[38;5;241m=\u001b[39m value[\u001b[38;5;124m\"\u001b[39m\u001b[38;5;124malert\u001b[39m\u001b[38;5;124m\"\u001b[39m]\u001b[38;5;241m.\u001b[39mget(\u001b[38;5;124m\"\u001b[39m\u001b[38;5;124mtext\u001b[39m\u001b[38;5;124m\"\u001b[39m)\n\u001b[0;32m    228\u001b[0m     \u001b[38;5;28;01mraise\u001b[39;00m exception_class(message, screen, stacktrace, alert_text)  \u001b[38;5;66;03m# type: ignore[call-arg]  # mypy is not smart enough here\u001b[39;00m\n\u001b[1;32m--> 229\u001b[0m \u001b[38;5;28;01mraise\u001b[39;00m exception_class(message, screen, stacktrace)\n",
      "\u001b[1;31mNoSuchWindowException\u001b[0m: Message: no such window: target window already closed\nfrom unknown error: web view not found\n  (Session info: chrome=121.0.6167.161)\nStacktrace:\n\tGetHandleVerifier [0x00007FF61B015E42+3538674]\n\t(No symbol) [0x00007FF61AC34C02]\n\t(No symbol) [0x00007FF61AAE5AEB]\n\t(No symbol) [0x00007FF61AAC288C]\n\t(No symbol) [0x00007FF61AB55DD7]\n\t(No symbol) [0x00007FF61AB6B40F]\n\t(No symbol) [0x00007FF61AB4EE53]\n\t(No symbol) [0x00007FF61AB1F514]\n\t(No symbol) [0x00007FF61AB20631]\n\tGetHandleVerifier [0x00007FF61B046CAD+3738973]\n\tGetHandleVerifier [0x00007FF61B09C506+4089270]\n\tGetHandleVerifier [0x00007FF61B094823+4057299]\n\tGetHandleVerifier [0x00007FF61AD65C49+720121]\n\t(No symbol) [0x00007FF61AC4126F]\n\t(No symbol) [0x00007FF61AC3C304]\n\t(No symbol) [0x00007FF61AC3C432]\n\t(No symbol) [0x00007FF61AC2BD04]\n\tBaseThreadInitThunk [0x00007FF8C7CE257D+29]\n\tRtlUserThreadStart [0x00007FF8C89EAA58+40]\n"
     ]
    }
   ],
   "source": [
    "for category in categories:\n",
    "    browser.get(category)\n",
    "    print(f'{category} is working...')\n",
    "    item_number = numberChecker()\n",
    "    category_items = hrefCollector()\n",
    "    for item in category_items:\n",
    "        try:\n",
    "            item_attrbs = itemCollector(item)\n",
    "            export_items.append(item_attrbs)\n",
    "        except:\n",
    "            try:\n",
    "                time.sleep(5)\n",
    "                item_attrbs = itemCollector(item)\n",
    "            except:\n",
    "                print(f'ERROR: {item}')\n",
    "    print(f'{browser.current_url} has {item_number} of items, and {len(category_items)} item collected.')\n",
    "\n",
    "    # baştan scrap yapılacak, eğer üst üste hata alınırsa browser yeniden başlayacak, img, fiyat vs çekmek opsiyonel olacak\n",
    "    # yörükana gibi boş columnları doldurmak için ek bir kod daha yazacaz"
   ]
  },
  {
   "cell_type": "code",
   "execution_count": null,
   "metadata": {},
   "outputs": [],
   "source": [
    "df = pd.DataFrame(export_items)\n",
    "df.to_excel('malatya2.xlsx')"
   ]
  }
 ],
 "metadata": {
  "kernelspec": {
   "display_name": "Python 3",
   "language": "python",
   "name": "python3"
  },
  "language_info": {
   "codemirror_mode": {
    "name": "ipython",
    "version": 3
   },
   "file_extension": ".py",
   "mimetype": "text/x-python",
   "name": "python",
   "nbconvert_exporter": "python",
   "pygments_lexer": "ipython3",
   "version": "3.11.8"
  }
 },
 "nbformat": 4,
 "nbformat_minor": 2
}
